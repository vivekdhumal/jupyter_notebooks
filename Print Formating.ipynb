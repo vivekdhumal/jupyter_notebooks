{
 "cells": [
  {
   "cell_type": "markdown",
   "metadata": {},
   "source": [
    "## Print Formating"
   ]
  },
  {
   "cell_type": "code",
   "execution_count": 1,
   "metadata": {},
   "outputs": [
    {
     "name": "stdout",
     "output_type": "stream",
     "text": [
      "This is a string\n"
     ]
    }
   ],
   "source": [
    "print 'This is a string'"
   ]
  },
  {
   "cell_type": "code",
   "execution_count": 2,
   "metadata": {},
   "outputs": [
    {
     "name": "stdout",
     "output_type": "stream",
     "text": [
      "insert the string here : another string\n"
     ]
    }
   ],
   "source": [
    "s = 'another string'\n",
    "\n",
    "print 'insert the string here : %s' %(s)"
   ]
  },
  {
   "cell_type": "code",
   "execution_count": 3,
   "metadata": {},
   "outputs": [
    {
     "name": "stdout",
     "output_type": "stream",
     "text": [
      "insert number here : 121\n"
     ]
    }
   ],
   "source": [
    "print 'insert number here : %s' %(121)"
   ]
  },
  {
   "cell_type": "code",
   "execution_count": 5,
   "metadata": {},
   "outputs": [
    {
     "name": "stdout",
     "output_type": "stream",
     "text": [
      "value of pie is 3.14 in decimal\n"
     ]
    }
   ],
   "source": [
    "print 'value of pie is %s in decimal' %(3.14)"
   ]
  },
  {
   "cell_type": "markdown",
   "metadata": {},
   "source": [
    "## Floating point numbers\n",
    "\n",
    "in `%1.2f` the `1` indicates that to show minum one number before the decimal and `2` will indcates to show only 2 numbers after the decimal."
   ]
  },
  {
   "cell_type": "code",
   "execution_count": 6,
   "metadata": {},
   "outputs": [
    {
     "name": "stdout",
     "output_type": "stream",
     "text": [
      "this is floating number 1.34\n"
     ]
    }
   ],
   "source": [
    "print 'this is floating number %1.2f' %(1.344444)"
   ]
  },
  {
   "cell_type": "code",
   "execution_count": 10,
   "metadata": {},
   "outputs": [
    {
     "name": "stdout",
     "output_type": "stream",
     "text": [
      "this is floating number 1.344\n"
     ]
    }
   ],
   "source": [
    "print 'this is floating number %1.3f' %(1.344444)"
   ]
  },
  {
   "cell_type": "code",
   "execution_count": 9,
   "metadata": {},
   "outputs": [
    {
     "name": "stdout",
     "output_type": "stream",
     "text": [
      "this is floating number 1.3444400000\n"
     ]
    }
   ],
   "source": [
    "print 'this is floating number %1.10f' %(1.34444)"
   ]
  },
  {
   "cell_type": "code",
   "execution_count": 12,
   "metadata": {},
   "outputs": [
    {
     "name": "stdout",
     "output_type": "stream",
     "text": [
      "this is floating number                     1.344\n"
     ]
    }
   ],
   "source": [
    "# it will add the 24 blank spaces before the number.\n",
    "print 'this is floating number %25.3f' %(1.3444)"
   ]
  },
  {
   "cell_type": "markdown",
   "metadata": {},
   "source": [
    "## Conversion format method\n",
    "\n",
    "there a two ways to convert any python object to string i.e %s and %r which uses str() and repr() native methods respectively to conversion to string."
   ]
  },
  {
   "cell_type": "code",
   "execution_count": 15,
   "metadata": {},
   "outputs": [
    {
     "name": "stdout",
     "output_type": "stream",
     "text": [
      "by first method will get the string as 123\n"
     ]
    }
   ],
   "source": [
    "print 'by first method will get the string as %s' %(123)"
   ]
  },
  {
   "cell_type": "code",
   "execution_count": 16,
   "metadata": {},
   "outputs": [
    {
     "name": "stdout",
     "output_type": "stream",
     "text": [
      "by second method will get the string as 123\n"
     ]
    }
   ],
   "source": [
    "print 'by second method will get the string as %r' %(123)"
   ]
  },
  {
   "cell_type": "markdown",
   "metadata": {},
   "source": [
    "## Multiple Formating"
   ]
  },
  {
   "cell_type": "code",
   "execution_count": 18,
   "metadata": {},
   "outputs": [
    {
     "name": "stdout",
     "output_type": "stream",
     "text": [
      "first : Hello, second : 3.15, third : 788984\n"
     ]
    }
   ],
   "source": [
    "print 'first : %s, second : %1.2f, third : %r' %('Hello', 3.1454518, 788984)"
   ]
  },
  {
   "cell_type": "markdown",
   "metadata": {},
   "source": [
    "## Using string.format() method\n",
    "\n",
    "best approach to covert python objects to string is using string format method."
   ]
  },
  {
   "cell_type": "code",
   "execution_count": 21,
   "metadata": {},
   "outputs": [
    {
     "name": "stdout",
     "output_type": "stream",
     "text": [
      "hello World!, and World is very big\n"
     ]
    }
   ],
   "source": [
    "print('hello {s}!, and {s} is very big'.format(s='World'))"
   ]
  },
  {
   "cell_type": "code",
   "execution_count": 24,
   "metadata": {},
   "outputs": [
    {
     "name": "stdout",
     "output_type": "stream",
     "text": [
      "first : Hello, second : 788984, third : 3.1454518, fourth: Hello\n"
     ]
    }
   ],
   "source": [
    "print('first : {a}, second : {c}, third : {b}, fourth: {a}'.format(a='Hello', b=3.1454518, c=788984))"
   ]
  },
  {
   "cell_type": "code",
   "execution_count": null,
   "metadata": {
    "collapsed": true
   },
   "outputs": [],
   "source": []
  }
 ],
 "metadata": {
  "kernelspec": {
   "display_name": "Python 2",
   "language": "python",
   "name": "python2"
  },
  "language_info": {
   "codemirror_mode": {
    "name": "ipython",
    "version": 2
   },
   "file_extension": ".py",
   "mimetype": "text/x-python",
   "name": "python",
   "nbconvert_exporter": "python",
   "pygments_lexer": "ipython2",
   "version": "2.7.14"
  }
 },
 "nbformat": 4,
 "nbformat_minor": 2
}
