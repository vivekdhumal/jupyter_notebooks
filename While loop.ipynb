{
 "cells": [
  {
   "cell_type": "markdown",
   "metadata": {},
   "source": [
    "## While Loop"
   ]
  },
  {
   "cell_type": "code",
   "execution_count": 2,
   "metadata": {},
   "outputs": [
    {
     "name": "stdout",
     "output_type": "stream",
     "text": [
      "x currently is :  0\n",
      "x currently is :  1\n",
      "x currently is :  2\n",
      "x currently is :  3\n",
      "x currently is :  4\n",
      "x currently is :  5\n",
      "x currently is :  6\n",
      "x currently is :  7\n",
      "x currently is :  8\n",
      "x currently is :  9\n"
     ]
    }
   ],
   "source": [
    "x = 0\n",
    "\n",
    "while x < 10:\n",
    "    print 'x currently is : ',x\n",
    "    x += 1"
   ]
  },
  {
   "cell_type": "code",
   "execution_count": 3,
   "metadata": {},
   "outputs": [
    {
     "name": "stdout",
     "output_type": "stream",
     "text": [
      "x currently is :  0\n",
      "x currently is :  1\n",
      "x currently is :  2\n",
      "x currently is :  3\n",
      "x currently is :  4\n",
      "x currently is :  5\n",
      "x currently is :  6\n",
      "x currently is :  7\n",
      "x currently is :  8\n",
      "x currently is :  9\n",
      "All done!\n"
     ]
    }
   ],
   "source": [
    "x = 0\n",
    "\n",
    "while x < 10:\n",
    "    print 'x currently is : ',x\n",
    "    x += 1\n",
    "    \n",
    "else:\n",
    "    print 'All done!'"
   ]
  },
  {
   "cell_type": "markdown",
   "metadata": {},
   "source": [
    "## Break, Continue, Pass\n",
    "\n",
    "- break : will stop the loop at a given condition\n",
    "- contine :will continue to the next iteration.\n",
    "- pass : will do nothing"
   ]
  },
  {
   "cell_type": "code",
   "execution_count": 10,
   "metadata": {},
   "outputs": [
    {
     "name": "stdout",
     "output_type": "stream",
     "text": [
      "x currently is :  0\n",
      "increment the x by one\n",
      "will continue...\n",
      "x currently is :  1\n",
      "increment the x by one\n",
      "will continue...\n",
      "x currently is :  2\n",
      "increment the x by one\n",
      "No will break the loop because x is:  3\n"
     ]
    }
   ],
   "source": [
    "x = 0\n",
    "\n",
    "while x < 10:\n",
    "    print 'x currently is : ',x\n",
    "    print 'increment the x by one'\n",
    "    x += 1\n",
    "    \n",
    "    if x == 3:\n",
    "        print 'No will break the loop because x is: ',x\n",
    "        break\n",
    "    else:\n",
    "        print 'will continue...'\n",
    "        continue\n",
    "else:\n",
    "    print 'All done!'"
   ]
  }
 ],
 "metadata": {
  "kernelspec": {
   "display_name": "Python 2",
   "language": "python",
   "name": "python2"
  },
  "language_info": {
   "codemirror_mode": {
    "name": "ipython",
    "version": 2
   },
   "file_extension": ".py",
   "mimetype": "text/x-python",
   "name": "python",
   "nbconvert_exporter": "python",
   "pygments_lexer": "ipython2",
   "version": "2.7.14"
  }
 },
 "nbformat": 4,
 "nbformat_minor": 2
}
