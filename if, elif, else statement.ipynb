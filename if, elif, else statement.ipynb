{
 "cells": [
  {
   "cell_type": "markdown",
   "metadata": {},
   "source": [
    "## if,elif,else Statement"
   ]
  },
  {
   "cell_type": "code",
   "execution_count": 1,
   "metadata": {},
   "outputs": [
    {
     "name": "stdout",
     "output_type": "stream",
     "text": [
      "This is truth\n"
     ]
    }
   ],
   "source": [
    "if True:\n",
    "    print 'This is truth'\n",
    "else:\n",
    "    print 'This is false'"
   ]
  },
  {
   "cell_type": "code",
   "execution_count": 5,
   "metadata": {},
   "outputs": [
    {
     "name": "stdout",
     "output_type": "stream",
     "text": [
      "Hello Vivek!\n"
     ]
    }
   ],
   "source": [
    "person = 'Vivek'\n",
    "\n",
    "if person == 'Vivek':\n",
    "    print 'Hello Vivek!'\n",
    "elif person == 'Sateesh':\n",
    "    print 'Hello Sateesh!'\n",
    "elif person == 'Sagar':\n",
    "    print 'Hello Sagar!'\n",
    "else:\n",
    "    print 'What\\'s your name?'"
   ]
  },
  {
   "cell_type": "code",
   "execution_count": 12,
   "metadata": {},
   "outputs": [
    {
     "name": "stdout",
     "output_type": "stream",
     "text": [
      "Congrats, You got in merrit!\n"
     ]
    }
   ],
   "source": [
    "avg = 90\n",
    "\n",
    "if avg >= 90:\n",
    "    print 'Congrats, You got in merrit!'\n",
    "elif avg >= 75 and avg < 90:\n",
    "    print 'You got a distinction!'\n",
    "elif avg < 75 and avg >= 60:\n",
    "    print 'You got a first class!'\n",
    "elif avg < 60 and avg >= 35:\n",
    "    print 'You are just passed out!'\n",
    "else:\n",
    "    print 'Your are failed!'"
   ]
  }
 ],
 "metadata": {
  "kernelspec": {
   "display_name": "Python 2",
   "language": "python",
   "name": "python2"
  },
  "language_info": {
   "codemirror_mode": {
    "name": "ipython",
    "version": 2
   },
   "file_extension": ".py",
   "mimetype": "text/x-python",
   "name": "python",
   "nbconvert_exporter": "python",
   "pygments_lexer": "ipython2",
   "version": "2.7.14"
  }
 },
 "nbformat": 4,
 "nbformat_minor": 2
}
